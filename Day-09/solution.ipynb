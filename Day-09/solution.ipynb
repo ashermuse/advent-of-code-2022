{
 "cells": [
  {
   "cell_type": "code",
   "execution_count": 56,
   "metadata": {},
   "outputs": [],
   "source": [
    "input = open('input.txt', 'r')\n",
    "lines = input.readlines()"
   ]
  },
  {
   "cell_type": "code",
   "execution_count": 57,
   "metadata": {},
   "outputs": [],
   "source": [
    "def follow(Hx, Hy, Tx, Ty):\n",
    "    # We only have to move if the head is two away\n",
    "    if Hx > Tx + 1: # two to the right\n",
    "        Tx += 1 # no matter what we have to move in this direction catch up\n",
    "        # Make the move diagonal\n",
    "        if Hy > Ty:\n",
    "            Ty += 1\n",
    "        elif Hy < Ty:\n",
    "            Ty -= 1 \n",
    "    elif Hx < Tx - 1: # two to the left\n",
    "        Tx -= 1 # no matter what we have to move in this direction catch up\n",
    "        # Make the move diagonal\n",
    "        if Hy > Ty:\n",
    "            Ty += 1\n",
    "        elif Hy < Ty:\n",
    "            Ty -= 1 \n",
    "    elif Hy > Ty + 1: # two above\n",
    "        Ty += 1 # no matter what we have to move in this direction catch up\n",
    "        # Make the move diagonal\n",
    "        if Hx > Tx:\n",
    "            Tx += 1\n",
    "        elif Hx < Tx:\n",
    "            Tx -= 1 \n",
    "    elif Hy < Ty - 1: # two below\n",
    "        Ty -= 1 # no matter what we have to move in this direction catch up\n",
    "        # Make the move diagonal\n",
    "        if Hx > Tx:\n",
    "            Tx += 1\n",
    "        elif Hx < Tx:\n",
    "            Tx -= 1 \n",
    "    return Tx, Ty\n"
   ]
  },
  {
   "cell_type": "code",
   "execution_count": 58,
   "metadata": {},
   "outputs": [],
   "source": [
    "def solve(lines, number_knots):\n",
    "    knot_coords = [[0, 0] for i in range(number_knots)]\n",
    "    visited_coords = {}\n",
    "    for line in lines:\n",
    "        direction, amount = line.strip().split(\" \")\n",
    "        amount = int(amount)\n",
    "\n",
    "        for i in range(amount):\n",
    "            match direction:\n",
    "                case \"U\":\n",
    "                    knot_coords[0][1] += 1\n",
    "                case \"R\":\n",
    "                    knot_coords[0][0] +=1\n",
    "                case \"D\":\n",
    "                    knot_coords[0][1] -= 1\n",
    "                case \"L\":\n",
    "                    knot_coords[0][0] -= 1\n",
    "                case _:\n",
    "                    raise Exception(f\"Line unsuccessfully parsed. Parsed direction: {direction}\")\n",
    "            \n",
    "            # For every knot (excluding the head), follow the knot ahead of you\n",
    "            \n",
    "            for follower_index in range(1, len(knot_coords)):\n",
    "                knot_coords[follower_index][0], knot_coords[follower_index][1] = follow(knot_coords[follower_index-1][0], \n",
    "                                                                                        knot_coords[follower_index-1][1], \n",
    "                                                                                        knot_coords[follower_index][0], \n",
    "                                                                                        knot_coords[follower_index][1])\n",
    "\n",
    "            visited_coords[(knot_coords[-1][0], knot_coords[-1][1])] = \"visited\"\n",
    "    return len(visited_coords)"
   ]
  },
  {
   "cell_type": "code",
   "execution_count": 61,
   "metadata": {},
   "outputs": [
    {
     "name": "stdout",
     "output_type": "stream",
     "text": [
      "Part 1: 6175\n",
      "Part 2: 2578\n"
     ]
    }
   ],
   "source": [
    "print(f\"Part 1: {solve(lines, 2)}\") # We found it\n",
    "print(f\"Part 2: {solve(lines, 10)}\") # We found it"
   ]
  }
 ],
 "metadata": {
  "kernelspec": {
   "display_name": "Python 3",
   "language": "python",
   "name": "python3"
  },
  "language_info": {
   "codemirror_mode": {
    "name": "ipython",
    "version": 3
   },
   "file_extension": ".py",
   "mimetype": "text/x-python",
   "name": "python",
   "nbconvert_exporter": "python",
   "pygments_lexer": "ipython3",
   "version": "3.10.4 (tags/v3.10.4:9d38120, Mar 23 2022, 23:13:41) [MSC v.1929 64 bit (AMD64)]"
  },
  "orig_nbformat": 4,
  "vscode": {
   "interpreter": {
    "hash": "33f25320136895269129cd2ed934c5172931c6ea249807b9fe2fd55508be5a59"
   }
  }
 },
 "nbformat": 4,
 "nbformat_minor": 2
}
