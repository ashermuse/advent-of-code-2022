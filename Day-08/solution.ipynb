{
 "cells": [
  {
   "cell_type": "code",
   "execution_count": 325,
   "metadata": {},
   "outputs": [],
   "source": [
    "import numpy as np"
   ]
  },
  {
   "cell_type": "code",
   "execution_count": 326,
   "metadata": {},
   "outputs": [],
   "source": [
    "input = open('input.txt', 'r')\n",
    "lines = input.readlines()"
   ]
  },
  {
   "cell_type": "code",
   "execution_count": 327,
   "metadata": {},
   "outputs": [],
   "source": [
    "grid = []\n",
    "for line in lines:\n",
    "    row = [int(c) for c in line.strip()]\n",
    "    grid.append(row)\n",
    "grid = np.array(grid) # convert to numpy array\n",
    "# Matrix variable naming convention\n",
    "m = len(grid)\n",
    "n = len(grid[0])"
   ]
  },
  {
   "cell_type": "code",
   "execution_count": 328,
   "metadata": {},
   "outputs": [],
   "source": [
    "is_visible = [[True] * n for i in range(m)]\n",
    "is_visible = np.array(is_visible) "
   ]
  },
  {
   "cell_type": "code",
   "execution_count": 329,
   "metadata": {},
   "outputs": [],
   "source": [
    "for row_index in range(1, m-1): # don't have to check outer layer\n",
    "    for col_index in range(1, n-1): # don't have to check outer layer\n",
    "        # check in all directions only if that item is visible\n",
    "        \n",
    "        # check above\n",
    "        hidden_from_top = False\n",
    "        for i in range(row_index-1, -1, -1): # Check values starting at the node directly above and all the way to the rim\n",
    "            if grid[i][col_index] >= grid[row_index][col_index]:\n",
    "                hidden_from_top = True\n",
    "                continue\n",
    "\n",
    "        # check bottom\n",
    "        hidden_from_bot = False\n",
    "        for i in range(row_index+1, m): # Check values starting at the node directly below and all the way to the rim\n",
    "            if grid[i][col_index] >= grid[row_index][col_index]:\n",
    "                hidden_from_bot = True\n",
    "                continue\n",
    "        \n",
    "        # check left\n",
    "        hidden_from_left = False\n",
    "        for i in range(col_index-1, -1, -1): # Check values starting at the node directly left and all the way to the rim\n",
    "            if grid[row_index][i] >= grid[row_index][col_index]:\n",
    "                hidden_from_left = True\n",
    "                continue\n",
    "\n",
    "        # check right\n",
    "        hidden_from_right = False\n",
    "        for i in range(col_index+1, n): # Check values starting at the node directly right and all the way to the rim\n",
    "            if grid[row_index][i] >= grid[row_index][col_index]:\n",
    "                hidden_from_right = True\n",
    "                continue\n",
    "        \n",
    "        \n",
    "        is_visible[row_index][col_index] = not (hidden_from_top and hidden_from_bot and hidden_from_right and hidden_from_left)"
   ]
  },
  {
   "cell_type": "code",
   "execution_count": 330,
   "metadata": {},
   "outputs": [
    {
     "name": "stdout",
     "output_type": "stream",
     "text": [
      "Part 1: 1776\n"
     ]
    }
   ],
   "source": [
    "print(f\"Part 1: {sum(sum(is_visible))}\") # We found it"
   ]
  },
  {
   "cell_type": "code",
   "execution_count": 331,
   "metadata": {},
   "outputs": [],
   "source": [
    "# outer layer doesn't matter because scenic score would be multiplied by 0\n",
    "scenic_scores = []\n",
    "for row_index in range(1, m-1): # don't have to check outer layer\n",
    "    for col_index in range(1, n-1): # don't have to check outer layer\n",
    "        score = 1\n",
    "        # check above\n",
    "        score_mult = 0\n",
    "        for i in range(row_index-1, -1, -1):\n",
    "            score_mult += 1\n",
    "            if grid[i][col_index] >= grid[row_index][col_index]:\n",
    "                break\n",
    "        score *= score_mult\n",
    "        \n",
    "        # check bottom\n",
    "        score_mult = 0\n",
    "        for i in range(row_index+1, m):\n",
    "            score_mult += 1\n",
    "            if grid[i][col_index] >= grid[row_index][col_index]:\n",
    "                break\n",
    "        score *= score_mult\n",
    "        \n",
    "        # check left\n",
    "        score_mult = 0\n",
    "        for i in range(col_index-1, -1, -1):\n",
    "            score_mult += 1\n",
    "            if grid[row_index][i] >= grid[row_index][col_index]:\n",
    "                break\n",
    "        score *= score_mult\n",
    "\n",
    "        # check right\n",
    "        score_mult = 0\n",
    "        for i in range(col_index+1, n):\n",
    "            score_mult += 1\n",
    "            if grid[row_index][i] >= grid[row_index][col_index]:\n",
    "                break\n",
    "        score *= score_mult\n",
    "\n",
    "        scenic_scores.append(score)"
   ]
  },
  {
   "cell_type": "code",
   "execution_count": 332,
   "metadata": {},
   "outputs": [
    {
     "name": "stdout",
     "output_type": "stream",
     "text": [
      "Part 2: 234416\n"
     ]
    }
   ],
   "source": [
    "print(f\"Part 2: {max(scenic_scores)}\") # We found it"
   ]
  }
 ],
 "metadata": {
  "kernelspec": {
   "display_name": "Python 3.10.4 64-bit",
   "language": "python",
   "name": "python3"
  },
  "language_info": {
   "codemirror_mode": {
    "name": "ipython",
    "version": 3
   },
   "file_extension": ".py",
   "mimetype": "text/x-python",
   "name": "python",
   "nbconvert_exporter": "python",
   "pygments_lexer": "ipython3",
   "version": "3.10.4 (tags/v3.10.4:9d38120, Mar 23 2022, 23:13:41) [MSC v.1929 64 bit (AMD64)]"
  },
  "orig_nbformat": 4,
  "vscode": {
   "interpreter": {
    "hash": "33f25320136895269129cd2ed934c5172931c6ea249807b9fe2fd55508be5a59"
   }
  }
 },
 "nbformat": 4,
 "nbformat_minor": 2
}
