{
 "cells": [
  {
   "cell_type": "code",
   "execution_count": 1,
   "metadata": {},
   "outputs": [],
   "source": [
    "input = open('input.csv', 'r')\n",
    "lines = input.readlines()"
   ]
  },
  {
   "cell_type": "code",
   "execution_count": 2,
   "metadata": {},
   "outputs": [],
   "source": [
    "elves = []\n",
    "total = 0\n",
    "for line in lines:\n",
    "    if line == \"\\n\":\n",
    "        elves.append(total)\n",
    "        total = 0\n",
    "    else:\n",
    "        total += int(line)"
   ]
  },
  {
   "cell_type": "code",
   "execution_count": 3,
   "metadata": {},
   "outputs": [],
   "source": [
    "elves.sort()"
   ]
  },
  {
   "cell_type": "code",
   "execution_count": 4,
   "metadata": {},
   "outputs": [
    {
     "name": "stdout",
     "output_type": "stream",
     "text": [
      "Max calories: 75501\n",
      "Calories in top 3: 215594\n"
     ]
    }
   ],
   "source": [
    "print(f\"Max calories: {elves[-1]}\")\n",
    "print(f\"Calories in top 3: {sum(elves[-3:])}\")"
   ]
  }
 ],
 "metadata": {
  "kernelspec": {
   "display_name": "Python 3.10.4 64-bit",
   "language": "python",
   "name": "python3"
  },
  "language_info": {
   "codemirror_mode": {
    "name": "ipython",
    "version": 3
   },
   "file_extension": ".py",
   "mimetype": "text/x-python",
   "name": "python",
   "nbconvert_exporter": "python",
   "pygments_lexer": "ipython3",
   "version": "3.10.4"
  },
  "orig_nbformat": 4,
  "vscode": {
   "interpreter": {
    "hash": "33f25320136895269129cd2ed934c5172931c6ea249807b9fe2fd55508be5a59"
   }
  }
 },
 "nbformat": 4,
 "nbformat_minor": 2
}
