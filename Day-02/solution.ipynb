{
 "cells": [
  {
   "cell_type": "code",
   "execution_count": 7,
   "metadata": {},
   "outputs": [],
   "source": [
    "import pandas"
   ]
  },
  {
   "cell_type": "code",
   "execution_count": 8,
   "metadata": {},
   "outputs": [],
   "source": [
    "df = pandas.read_csv('input.csv', delimiter=\" \", header=None)"
   ]
  },
  {
   "cell_type": "code",
   "execution_count": 9,
   "metadata": {},
   "outputs": [],
   "source": [
    "map = {\n",
    "    \"A\":\"rock\",\n",
    "    \"B\":\"paper\",\n",
    "    \"C\":\"scissors\",\n",
    "    \"X\":\"rock\",\n",
    "    \"Y\":\"paper\",\n",
    "    \"Z\":\"scissors\"\n",
    "}\n",
    "\n",
    "def get_winner(opponent, player):\n",
    "    if opponent == player:\n",
    "        return 3\n",
    "    elif (opponent == \"rock\" and player == \"paper\") or (opponent == \"paper\" and player == \"scissors\") or (opponent == \"scissors\" and player == \"rock\"):\n",
    "        return 6\n",
    "    else:\n",
    "        return 0\n",
    "\n",
    "def compute_round_score(opponent, player):\n",
    "    opponent = map[opponent]\n",
    "    player = map[player]\n",
    "\n",
    "    score = get_winner(opponent, player)\n",
    "\n",
    "    if player == \"rock\":\n",
    "        score += 1\n",
    "    elif player == \"paper\":\n",
    "        score +=2\n",
    "    elif player == \"scissors\":\n",
    "        score +=3\n",
    "    return score\n",
    "\n",
    "def compute_scores_wrapper(row):\n",
    "    return compute_round_score(row[0], row[1])"
   ]
  },
  {
   "cell_type": "code",
   "execution_count": 10,
   "metadata": {},
   "outputs": [],
   "source": [
    "outputs = df.apply(compute_scores_wrapper, axis=1)"
   ]
  },
  {
   "cell_type": "code",
   "execution_count": 11,
   "metadata": {},
   "outputs": [
    {
     "name": "stdout",
     "output_type": "stream",
     "text": [
      "Score if everything goes correct: 8890\n"
     ]
    }
   ],
   "source": [
    "print(f\"Score if everything goes correct: {sum(outputs)}\")"
   ]
  },
  {
   "cell_type": "code",
   "execution_count": 21,
   "metadata": {},
   "outputs": [],
   "source": [
    "options = ['rock', 'paper', 'scissors']\n",
    "map = {\n",
    "    \"A\":\"rock\",\n",
    "    \"B\":\"paper\",\n",
    "    \"C\":\"scissors\",\n",
    "    \"X\":\"lose\",\n",
    "    \"Y\":\"draw\",\n",
    "    \"Z\":\"win\"\n",
    "}\n",
    "\n",
    "def get_play(opponent, outcome):\n",
    "    if outcome == 'draw':\n",
    "        offset = 0\n",
    "    elif outcome == 'win':\n",
    "        offset = 1\n",
    "    else:\n",
    "        offset = 2\n",
    "    play_index = (options.index(opponent) + offset) % 3\n",
    "\n",
    "    return options[play_index]\n",
    "\n",
    "def compute_round_score(opponent, player):\n",
    "    opponent = map[opponent]\n",
    "    player = map[player]\n",
    "    player = get_play(opponent, player)\n",
    "\n",
    "    score = get_winner(opponent, player)\n",
    "\n",
    "    if player == \"rock\":\n",
    "        score += 1\n",
    "    elif player == \"paper\":\n",
    "        score +=2\n",
    "    elif player == \"scissors\":\n",
    "        score +=3\n",
    "    return score"
   ]
  },
  {
   "cell_type": "code",
   "execution_count": 22,
   "metadata": {},
   "outputs": [],
   "source": [
    "outputs = df.apply(compute_scores_wrapper, axis=1)"
   ]
  },
  {
   "cell_type": "code",
   "execution_count": 23,
   "metadata": {},
   "outputs": [
    {
     "name": "stdout",
     "output_type": "stream",
     "text": [
      "Score if everything goes correct 2: 10238\n"
     ]
    }
   ],
   "source": [
    "print(f\"Score if everything goes correct 2: {sum(outputs)}\")"
   ]
  }
 ],
 "metadata": {
  "kernelspec": {
   "display_name": "Python 3.10.4 64-bit",
   "language": "python",
   "name": "python3"
  },
  "language_info": {
   "codemirror_mode": {
    "name": "ipython",
    "version": 3
   },
   "file_extension": ".py",
   "mimetype": "text/x-python",
   "name": "python",
   "nbconvert_exporter": "python",
   "pygments_lexer": "ipython3",
   "version": "3.10.4"
  },
  "orig_nbformat": 4,
  "vscode": {
   "interpreter": {
    "hash": "33f25320136895269129cd2ed934c5172931c6ea249807b9fe2fd55508be5a59"
   }
  }
 },
 "nbformat": 4,
 "nbformat_minor": 2
}
