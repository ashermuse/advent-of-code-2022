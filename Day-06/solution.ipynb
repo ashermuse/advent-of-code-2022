{
 "cells": [
  {
   "cell_type": "code",
   "execution_count": 16,
   "metadata": {},
   "outputs": [],
   "source": [
    "input = open('input.txt', 'r')\n",
    "data = input.read()\n",
    "input.close()"
   ]
  },
  {
   "cell_type": "code",
   "execution_count": 17,
   "metadata": {},
   "outputs": [],
   "source": [
    "def packet_reader(data, marker_len):\n",
    "    for i in range(marker_len, len(data)):\n",
    "        potential_marker = data[i-marker_len:i]\n",
    "        if len(set(potential_marker)) == marker_len:\n",
    "            return i"
   ]
  },
  {
   "cell_type": "code",
   "execution_count": 18,
   "metadata": {},
   "outputs": [
    {
     "name": "stdout",
     "output_type": "stream",
     "text": [
      "Part 1: 1850\n"
     ]
    }
   ],
   "source": [
    "part_1_answer = packet_reader(data, 4)\n",
    "print(f\"Part 1: {part_1_answer}\") # We found it"
   ]
  },
  {
   "cell_type": "code",
   "execution_count": 19,
   "metadata": {},
   "outputs": [
    {
     "name": "stdout",
     "output_type": "stream",
     "text": [
      "Part 2: 2823\n"
     ]
    }
   ],
   "source": [
    "part_2_answer = packet_reader(data, 14)\n",
    "print(f\"Part 2: {part_2_answer}\") # We found it"
   ]
  }
 ],
 "metadata": {
  "kernelspec": {
   "display_name": "Python 3.10.4 64-bit",
   "language": "python",
   "name": "python3"
  },
  "language_info": {
   "codemirror_mode": {
    "name": "ipython",
    "version": 3
   },
   "file_extension": ".py",
   "mimetype": "text/x-python",
   "name": "python",
   "nbconvert_exporter": "python",
   "pygments_lexer": "ipython3",
   "version": "3.10.4"
  },
  "orig_nbformat": 4,
  "vscode": {
   "interpreter": {
    "hash": "33f25320136895269129cd2ed934c5172931c6ea249807b9fe2fd55508be5a59"
   }
  }
 },
 "nbformat": 4,
 "nbformat_minor": 2
}
