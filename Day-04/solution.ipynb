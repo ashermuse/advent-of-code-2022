{
 "cells": [
  {
   "cell_type": "code",
   "execution_count": 54,
   "metadata": {},
   "outputs": [],
   "source": [
    "import pandas as pd\n",
    "import numpy as np"
   ]
  },
  {
   "cell_type": "code",
   "execution_count": 55,
   "metadata": {},
   "outputs": [],
   "source": [
    "df = pd.read_csv('input.csv', header=None)"
   ]
  },
  {
   "cell_type": "code",
   "execution_count": 56,
   "metadata": {},
   "outputs": [],
   "source": [
    "def parse_data(x, y):\n",
    "    a, b = map(int, x.split(\"-\"))\n",
    "    c, d = map(int, y.split(\"-\"))\n",
    "    return a, b, c, d"
   ]
  },
  {
   "cell_type": "code",
   "execution_count": 57,
   "metadata": {},
   "outputs": [],
   "source": [
    "def contains(x, y):\n",
    "    a, b, c, d = (parse_data(x, y))\n",
    "\n",
    "    return a <= c and b >= d or a >= c and b <= d"
   ]
  },
  {
   "cell_type": "code",
   "execution_count": 58,
   "metadata": {},
   "outputs": [],
   "source": [
    "def contains_wrapper(row):\n",
    "    return contains(row[0], row[1])"
   ]
  },
  {
   "cell_type": "code",
   "execution_count": 59,
   "metadata": {},
   "outputs": [],
   "source": [
    "contains_vals = df.apply(contains_wrapper, axis=1)"
   ]
  },
  {
   "cell_type": "code",
   "execution_count": 60,
   "metadata": {},
   "outputs": [
    {
     "name": "stdout",
     "output_type": "stream",
     "text": [
      "Part 1: 431\n"
     ]
    }
   ],
   "source": [
    "print(f\"Part 1: {sum(contains_vals)}\")"
   ]
  },
  {
   "cell_type": "code",
   "execution_count": 61,
   "metadata": {},
   "outputs": [],
   "source": [
    "def overlaps(x, y):\n",
    "    a, b, c, d = (parse_data(x, y))\n",
    "    return not (a > c and a > d or b < c and b < d)"
   ]
  },
  {
   "cell_type": "code",
   "execution_count": 62,
   "metadata": {},
   "outputs": [],
   "source": [
    "def overlaps_wrapper(row):\n",
    "    return overlaps(row[0], row[1])"
   ]
  },
  {
   "cell_type": "code",
   "execution_count": 63,
   "metadata": {},
   "outputs": [],
   "source": [
    "overlaps_vals = df.apply(overlaps_wrapper, axis=1)"
   ]
  },
  {
   "cell_type": "code",
   "execution_count": 64,
   "metadata": {},
   "outputs": [
    {
     "name": "stdout",
     "output_type": "stream",
     "text": [
      "Part 2: 823\n"
     ]
    }
   ],
   "source": [
    "print(f\"Part 2: {sum(overlaps_vals)}\")"
   ]
  }
 ],
 "metadata": {
  "kernelspec": {
   "display_name": "Python 3.10.4 64-bit",
   "language": "python",
   "name": "python3"
  },
  "language_info": {
   "codemirror_mode": {
    "name": "ipython",
    "version": 3
   },
   "file_extension": ".py",
   "mimetype": "text/x-python",
   "name": "python",
   "nbconvert_exporter": "python",
   "pygments_lexer": "ipython3",
   "version": "3.10.4"
  },
  "orig_nbformat": 4,
  "vscode": {
   "interpreter": {
    "hash": "33f25320136895269129cd2ed934c5172931c6ea249807b9fe2fd55508be5a59"
   }
  }
 },
 "nbformat": 4,
 "nbformat_minor": 2
}
