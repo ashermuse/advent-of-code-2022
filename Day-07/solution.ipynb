{
 "cells": [
  {
   "cell_type": "code",
   "execution_count": 282,
   "metadata": {},
   "outputs": [],
   "source": [
    "input = open('input.txt', 'r')\n",
    "lines = input.readlines()"
   ]
  },
  {
   "cell_type": "code",
   "execution_count": 283,
   "metadata": {},
   "outputs": [],
   "source": [
    "class Tree:\n",
    "    def __init__(self, name, dir_or_file, size=None, parent=None):\n",
    "        self.name = name\n",
    "        self.type = dir_or_file\n",
    "        self.size = size # init\n",
    "        self.children = [] # list of children nodes\n",
    "        self.parent = parent\n",
    "        "
   ]
  },
  {
   "cell_type": "code",
   "execution_count": 284,
   "metadata": {},
   "outputs": [],
   "source": [
    "root = Tree(\"/\", \"dir\", None)\n",
    "current_node = root\n",
    "for line in lines:\n",
    "    line = line.strip()\n",
    "    command = line.split(\" \")\n",
    "    if line.startswith(\"$\"): # command\n",
    "        if len(command) == 3 and command[2] != \"/\": # it's a cd command\n",
    "            if command[2] == \"..\": # go back up\n",
    "                current_node = current_node.parent # remove the last element as we are moving up one level\n",
    "            else:\n",
    "                new_node = Tree(command[2], \"dir\", parent=current_node)\n",
    "                current_node.children.append(new_node)\n",
    "                current_node = new_node\n",
    "    elif not line.startswith(\"dir\"): # it's a file, we don't care about directories in ls\n",
    "        new_node = Tree(command[1], \"file\", size=int(command[0]), parent=current_node)\n",
    "        current_node.children.append(new_node)\n",
    "        "
   ]
  },
  {
   "cell_type": "code",
   "execution_count": 285,
   "metadata": {},
   "outputs": [],
   "source": [
    "meets_threshold = []"
   ]
  },
  {
   "cell_type": "code",
   "execution_count": 286,
   "metadata": {},
   "outputs": [],
   "source": [
    "def compute_node_size(node):\n",
    "    if node.size != None:\n",
    "        return node.size # if it's a file, return the node size\n",
    "    \n",
    "    # else the size is the size of all subnodes\n",
    "    size = 0\n",
    "    for sub_node in node.children:\n",
    "        size += compute_node_size(sub_node)\n",
    "    if size <= 100000 and node.type == \"dir\":\n",
    "        meets_threshold.append(size)\n",
    "    return size"
   ]
  },
  {
   "cell_type": "code",
   "execution_count": 287,
   "metadata": {},
   "outputs": [
    {
     "data": {
      "text/plain": [
       "49192532"
      ]
     },
     "execution_count": 287,
     "metadata": {},
     "output_type": "execute_result"
    }
   ],
   "source": [
    "compute_node_size(root)"
   ]
  },
  {
   "cell_type": "code",
   "execution_count": 288,
   "metadata": {},
   "outputs": [
    {
     "name": "stdout",
     "output_type": "stream",
     "text": [
      "Part 1: 1490523\n"
     ]
    }
   ],
   "source": [
    "print(f\"Part 1: {sum(meets_threshold)}\")"
   ]
  },
  {
   "cell_type": "code",
   "execution_count": 289,
   "metadata": {},
   "outputs": [
    {
     "name": "stdout",
     "output_type": "stream",
     "text": [
      "Required Space: 9192532\n"
     ]
    }
   ],
   "source": [
    "MAX_SIZE = 70000000\n",
    "NEEDED_SIZE = 30000000\n",
    "needed_space = NEEDED_SIZE - (MAX_SIZE - compute_node_size(root))\n",
    "print(f\"Required Space: {needed_space}\")"
   ]
  },
  {
   "cell_type": "code",
   "execution_count": 290,
   "metadata": {},
   "outputs": [
    {
     "name": "stdout",
     "output_type": "stream",
     "text": [
      "None\n"
     ]
    }
   ],
   "source": [
    "2152065\n",
    "9192532\n",
    "40842292\n",
    "40842292\n",
    "print(root.size)"
   ]
  },
  {
   "cell_type": "code",
   "execution_count": 291,
   "metadata": {},
   "outputs": [
    {
     "name": "stdout",
     "output_type": "stream",
     "text": [
      "glh.fcb 233998\n",
      "jzn 184686\n",
      "rbssdzm.ccn 299692\n",
      "qcznqph 40842292\n",
      "qtbprrq 1023532\n",
      "vtb 6608332\n"
     ]
    }
   ],
   "source": [
    "for node in root.children:\n",
    "    print(node.name, compute_node_size(node))"
   ]
  },
  {
   "cell_type": "code",
   "execution_count": 292,
   "metadata": {},
   "outputs": [],
   "source": [
    "def compute_smallest_deletable_node(node, smallest_deletable):\n",
    "    if node.size != None:\n",
    "        return node.size, smallest_deletable # if it's a file, return the node size\n",
    "    \n",
    "    # else the size is the size of all subnodes\n",
    "    size = 0\n",
    "\n",
    "    for sub_node in node.children:\n",
    "        additive, smallest_deletable = compute_smallest_deletable_node(sub_node, smallest_deletable)\n",
    "        size += additive\n",
    "    \n",
    "    if size >= needed_space and size < smallest_deletable:\n",
    "        smallest_deletable = size\n",
    "    return size, smallest_deletable"
   ]
  },
  {
   "cell_type": "code",
   "execution_count": 294,
   "metadata": {},
   "outputs": [
    {
     "name": "stdout",
     "output_type": "stream",
     "text": [
      "Part 2: 12390492\n"
     ]
    }
   ],
   "source": [
    "print(f\"Part 2: {compute_smallest_deletable_node(root, MAX_SIZE)[1]}\")"
   ]
  }
 ],
 "metadata": {
  "kernelspec": {
   "display_name": "Python 3.10.4 64-bit",
   "language": "python",
   "name": "python3"
  },
  "language_info": {
   "codemirror_mode": {
    "name": "ipython",
    "version": 3
   },
   "file_extension": ".py",
   "mimetype": "text/x-python",
   "name": "python",
   "nbconvert_exporter": "python",
   "pygments_lexer": "ipython3",
   "version": "3.10.4"
  },
  "orig_nbformat": 4,
  "vscode": {
   "interpreter": {
    "hash": "33f25320136895269129cd2ed934c5172931c6ea249807b9fe2fd55508be5a59"
   }
  }
 },
 "nbformat": 4,
 "nbformat_minor": 2
}
