{
 "cells": [
  {
   "cell_type": "code",
   "execution_count": 90,
   "metadata": {},
   "outputs": [],
   "source": [
    "input = open('input.txt', 'r')\n",
    "lines = input.readlines()"
   ]
  },
  {
   "cell_type": "code",
   "execution_count": 91,
   "metadata": {},
   "outputs": [],
   "source": [
    "class CPU:\n",
    "    def __init__(self):\n",
    "        self.X = 1\n",
    "        self.cycle = 1\n",
    "        self.signal_strengths = []\n",
    "        self.CRT = [[]]\n",
    "\n",
    "    def noop(self):\n",
    "        self.update_cycle(1)\n",
    "\n",
    "    def addx(self, v):\n",
    "        self.update_cycle(2)\n",
    "        self.X += v\n",
    "\n",
    "    def update_cycle(self, increment):\n",
    "        for i in range(increment):\n",
    "            # Update signal_strengths\n",
    "            if self.cycle == 20 or (self.cycle - 20) % 40 == 0:\n",
    "                self.signal_strengths.append(self.get_signal_strength())\n",
    "\n",
    "            # Update CRT\n",
    "            CRT_pos = (self.cycle - 1) % 40\n",
    "            CRT_line = (self.cycle - 1) // 40\n",
    "            if CRT_line == len(self.CRT):\n",
    "                self.CRT.append([])\n",
    "            if CRT_pos >= self.X - 1 and CRT_pos <= self.X+1:\n",
    "                self.CRT[CRT_line].append(\"#\")\n",
    "            else:\n",
    "                self.CRT[CRT_line].append(\".\")\n",
    "            # Increment\n",
    "            self.cycle += 1\n",
    "\n",
    "    def do_command(self, command):\n",
    "        if command == \"noop\":\n",
    "            self.noop()\n",
    "        else:\n",
    "            self.addx(int(command.split(\" \")[1]))\n",
    "\n",
    "    def get_signal_strength(self):\n",
    "        return self.X * self.cycle"
   ]
  },
  {
   "cell_type": "code",
   "execution_count": 92,
   "metadata": {},
   "outputs": [],
   "source": [
    "comm_device = CPU()\n",
    "for command in lines:\n",
    "    comm_device.do_command(command.strip())"
   ]
  },
  {
   "cell_type": "code",
   "execution_count": 93,
   "metadata": {},
   "outputs": [
    {
     "name": "stdout",
     "output_type": "stream",
     "text": [
      "Part 1: 15220\n"
     ]
    }
   ],
   "source": [
    "print(f\"Part 1: {sum(comm_device.signal_strengths)}\") # We found it\n"
   ]
  },
  {
   "cell_type": "code",
   "execution_count": 96,
   "metadata": {},
   "outputs": [
    {
     "name": "stdout",
     "output_type": "stream",
     "text": [
      "# # # . . # # # # . # # # # . # # # # . # . . # . # # # . . # # # # . . # # . . \n",
      "# . . # . # . . . . . . . # . # . . . . # . # . . # . . # . # . . . . # . . # . \n",
      "# . . # . # # # . . . . # . . # # # . . # # . . . # # # . . # # # . . # . . # . \n",
      "# # # . . # . . . . . # . . . # . . . . # . # . . # . . # . # . . . . # # # # . \n",
      "# . # . . # . . . . # . . . . # . . . . # . # . . # . . # . # . . . . # . . # . \n",
      "# . . # . # . . . . # # # # . # # # # . # . . # . # # # . . # . . . . # . . # . \n"
     ]
    }
   ],
   "source": [
    "for visual_line in comm_device.CRT:\n",
    "    for visual_elem in visual_line:\n",
    "        print(visual_elem, end=\" \")\n",
    "    print()\n",
    "# RFZEKBFA\n"
   ]
  }
 ],
 "metadata": {
  "kernelspec": {
   "display_name": "Python 3",
   "language": "python",
   "name": "python3"
  },
  "language_info": {
   "codemirror_mode": {
    "name": "ipython",
    "version": 3
   },
   "file_extension": ".py",
   "mimetype": "text/x-python",
   "name": "python",
   "nbconvert_exporter": "python",
   "pygments_lexer": "ipython3",
   "version": "3.10.4"
  },
  "orig_nbformat": 4,
  "vscode": {
   "interpreter": {
    "hash": "33f25320136895269129cd2ed934c5172931c6ea249807b9fe2fd55508be5a59"
   }
  }
 },
 "nbformat": 4,
 "nbformat_minor": 2
}
