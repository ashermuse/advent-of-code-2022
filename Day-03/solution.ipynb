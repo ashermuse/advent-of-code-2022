{
 "cells": [
  {
   "cell_type": "code",
   "execution_count": 118,
   "metadata": {},
   "outputs": [],
   "source": [
    "import pandas as pd"
   ]
  },
  {
   "cell_type": "code",
   "execution_count": 119,
   "metadata": {},
   "outputs": [],
   "source": [
    "df = pd.read_csv('input.csv', delimiter=\" \", header=None)"
   ]
  },
  {
   "cell_type": "code",
   "execution_count": 120,
   "metadata": {},
   "outputs": [],
   "source": [
    "def get_letter_score(letter):\n",
    "    score = ord(letter) - 96\n",
    "    return score if score > 0 else score + 32 + 26"
   ]
  },
  {
   "cell_type": "code",
   "execution_count": 121,
   "metadata": {},
   "outputs": [],
   "source": [
    "def find_compartments(data):\n",
    "    return int(len(data)/2)"
   ]
  },
  {
   "cell_type": "code",
   "execution_count": 122,
   "metadata": {},
   "outputs": [],
   "source": [
    "def add_to_inv(item, inv):\n",
    "    if item in inv:\n",
    "        inv[item] += 1\n",
    "    else:\n",
    "        inv[item] = 1\n",
    "    return inv"
   ]
  },
  {
   "cell_type": "code",
   "execution_count": 123,
   "metadata": {},
   "outputs": [],
   "source": [
    "def compare_compartments(comp_a, comp_b):\n",
    "    comp_a_inventory = {}\n",
    "    for i in range(len(comp_a)):\n",
    "        item = comp_a[i]\n",
    "        add_to_inv(item, comp_a_inventory)\n",
    "    \n",
    "    shared_inv = {}\n",
    "    for i in range(len(comp_b)):\n",
    "        item = comp_b[i]\n",
    "        if item in comp_a_inventory:\n",
    "            add_to_inv(item, shared_inv)\n",
    "    \n",
    "    total_priority_score = 0\n",
    "    for key, value in shared_inv.items():\n",
    "        total_priority_score += get_letter_score(key) #* value\n",
    "\n",
    "    return total_priority_score"
   ]
  },
  {
   "cell_type": "code",
   "execution_count": 124,
   "metadata": {},
   "outputs": [],
   "source": [
    "def driver(data):\n",
    "    split = find_compartments(data)\n",
    "    score = compare_compartments(data[:split], data[split:])\n",
    "    return score"
   ]
  },
  {
   "cell_type": "code",
   "execution_count": 125,
   "metadata": {},
   "outputs": [],
   "source": [
    "def wrapper(data):\n",
    "    return driver(data[0])"
   ]
  },
  {
   "cell_type": "code",
   "execution_count": 126,
   "metadata": {},
   "outputs": [],
   "source": [
    "scores = df.apply(wrapper, axis=1)"
   ]
  },
  {
   "cell_type": "code",
   "execution_count": 127,
   "metadata": {},
   "outputs": [
    {
     "name": "stdout",
     "output_type": "stream",
     "text": [
      "Part 1: 7793\n"
     ]
    }
   ],
   "source": [
    "print(f\"Part 1: {sum(scores)}\")"
   ]
  },
  {
   "cell_type": "code",
   "execution_count": 161,
   "metadata": {},
   "outputs": [],
   "source": [
    "def compare_group_sacks(sacks):\n",
    "    inventories = []\n",
    "    for i in range(len(sacks)):\n",
    "        sack = sacks[i]\n",
    "        inventories.append({}) # new inventory that relates to a given sack\n",
    "        \n",
    "        for j in range(len(sack)):\n",
    "            item = sack[j]\n",
    "            add_to_inv(item, inventories[i]) # account for each item in each sack in its inventory (dict)\n",
    "    \n",
    "    for letter, value in inventories[0].items():\n",
    "        is_letter = True\n",
    "        for i in range(1, len(inventories)): # outer loop is 1st inventory so not needed here\n",
    "            inv = inventories[i]\n",
    "            if letter not in inv:\n",
    "                is_letter = False\n",
    "        if is_letter == True:\n",
    "            return get_letter_score(letter)"
   ]
  },
  {
   "cell_type": "code",
   "execution_count": 150,
   "metadata": {},
   "outputs": [],
   "source": [
    "def group_driver(sacks):\n",
    "    return compare_group_sacks(sacks)\n"
   ]
  },
  {
   "cell_type": "code",
   "execution_count": 151,
   "metadata": {},
   "outputs": [],
   "source": [
    "def group_wrapper(row):\n",
    "    return group_driver(row.values.tolist())"
   ]
  },
  {
   "cell_type": "code",
   "execution_count": 141,
   "metadata": {},
   "outputs": [],
   "source": [
    "df = pd.concat([df.iloc[0::3, :].reset_index(drop=True), df.iloc[1::3, :].reset_index(drop=True), df.iloc[2::3, :].reset_index(drop=True)], axis = 1, ignore_index=True, sort=False)"
   ]
  },
  {
   "cell_type": "code",
   "execution_count": 163,
   "metadata": {},
   "outputs": [],
   "source": [
    "scores = df.apply(group_wrapper, axis=1)"
   ]
  },
  {
   "cell_type": "code",
   "execution_count": 164,
   "metadata": {},
   "outputs": [
    {
     "name": "stdout",
     "output_type": "stream",
     "text": [
      "Part 2: 2499\n"
     ]
    }
   ],
   "source": [
    "print(f\"Part 2: {sum(scores)}\")"
   ]
  }
 ],
 "metadata": {
  "kernelspec": {
   "display_name": "Python 3.10.4 64-bit",
   "language": "python",
   "name": "python3"
  },
  "language_info": {
   "codemirror_mode": {
    "name": "ipython",
    "version": 3
   },
   "file_extension": ".py",
   "mimetype": "text/x-python",
   "name": "python",
   "nbconvert_exporter": "python",
   "pygments_lexer": "ipython3",
   "version": "3.10.4"
  },
  "orig_nbformat": 4,
  "vscode": {
   "interpreter": {
    "hash": "33f25320136895269129cd2ed934c5172931c6ea249807b9fe2fd55508be5a59"
   }
  }
 },
 "nbformat": 4,
 "nbformat_minor": 2
}
