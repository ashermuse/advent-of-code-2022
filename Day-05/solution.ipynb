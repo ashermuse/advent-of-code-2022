{
 "cells": [
  {
   "cell_type": "code",
   "execution_count": 245,
   "metadata": {},
   "outputs": [],
   "source": [
    "input = open('input.txt', 'r')\n",
    "lines = input.readlines()"
   ]
  },
  {
   "cell_type": "code",
   "execution_count": 246,
   "metadata": {},
   "outputs": [],
   "source": [
    "moves = []\n",
    "num_stacks = int((len(lines[0] ) + 1) / 4)\n",
    "stacks = [[] for i in range(num_stacks)]\n",
    "for line in lines:\n",
    "    if line.startswith(\"m\"): # if line starts with move; shortend to m for speed\n",
    "        moves.append(line)\n",
    "    elif line.startswith('['):\n",
    "        data_index = 1\n",
    "        for i in range(num_stacks): # from 0 to total num stacks\n",
    "            if line[data_index] != ' ':\n",
    "                stacks[i].insert(0, line[data_index]) # prepend data to list\n",
    "            data_index += 4\n",
    "stacks_p2 = [x[:] for x in stacks] # backup for part 2\n"
   ]
  },
  {
   "cell_type": "code",
   "execution_count": 247,
   "metadata": {},
   "outputs": [],
   "source": [
    "def parse_move(move):\n",
    "    move_parts = move.strip().split(\" \")\n",
    "    return int(move_parts[1]), int(move_parts[3]) - 1, int(move_parts[5]) - 1 # amount to move, from location, to location"
   ]
  },
  {
   "cell_type": "code",
   "execution_count": 248,
   "metadata": {},
   "outputs": [],
   "source": [
    "def make_move_9000(stacks, amount, from_loc, to_loc):\n",
    "    for i in range(amount): # move things amount times\n",
    "        data = stacks[from_loc].pop()\n",
    "        stacks[to_loc].append(data)\n",
    "    return stacks"
   ]
  },
  {
   "cell_type": "code",
   "execution_count": 249,
   "metadata": {},
   "outputs": [],
   "source": [
    "for move in moves:\n",
    "    amount, from_loc, to_loc = parse_move(move)\n",
    "    stacks = make_move_9000(stacks, amount, from_loc, to_loc)"
   ]
  },
  {
   "cell_type": "code",
   "execution_count": 250,
   "metadata": {},
   "outputs": [],
   "source": [
    "part_1_answer = \"\"\n",
    "for stack in stacks:\n",
    "    part_1_answer += stack[-1]"
   ]
  },
  {
   "cell_type": "code",
   "execution_count": 251,
   "metadata": {},
   "outputs": [
    {
     "name": "stdout",
     "output_type": "stream",
     "text": [
      "Part 1: RNZLFZSJH\n"
     ]
    }
   ],
   "source": [
    "print(f\"Part 1: {part_1_answer}\")"
   ]
  },
  {
   "cell_type": "code",
   "execution_count": 252,
   "metadata": {},
   "outputs": [],
   "source": [
    "def make_move_9001(stacks, amount, from_loc, to_loc):\n",
    "    data = stacks[from_loc][-amount:] # save data to be transfered\n",
    "    stacks[from_loc] = stacks[from_loc][:-amount] # delete data from old stack\n",
    "    stacks[to_loc].extend(data)\n",
    "    return stacks"
   ]
  },
  {
   "cell_type": "code",
   "execution_count": 253,
   "metadata": {},
   "outputs": [],
   "source": [
    "for move in moves:\n",
    "    amount, from_loc, to_loc = parse_move(move)\n",
    "    stacks_p2 = make_move_9001(stacks_p2, amount, from_loc, to_loc)"
   ]
  },
  {
   "cell_type": "code",
   "execution_count": 256,
   "metadata": {},
   "outputs": [],
   "source": [
    "part_2_answer = \"\"\n",
    "for stack in stacks_p2:\n",
    "    part_2_answer += stack[-1]"
   ]
  },
  {
   "cell_type": "code",
   "execution_count": 257,
   "metadata": {},
   "outputs": [
    {
     "name": "stdout",
     "output_type": "stream",
     "text": [
      "Part 2: CNSFCGJSM\n"
     ]
    }
   ],
   "source": [
    "print(f\"Part 2: {part_2_answer}\")"
   ]
  }
 ],
 "metadata": {
  "kernelspec": {
   "display_name": "Python 3.10.4 64-bit",
   "language": "python",
   "name": "python3"
  },
  "language_info": {
   "codemirror_mode": {
    "name": "ipython",
    "version": 3
   },
   "file_extension": ".py",
   "mimetype": "text/x-python",
   "name": "python",
   "nbconvert_exporter": "python",
   "pygments_lexer": "ipython3",
   "version": "3.10.4"
  },
  "orig_nbformat": 4,
  "vscode": {
   "interpreter": {
    "hash": "33f25320136895269129cd2ed934c5172931c6ea249807b9fe2fd55508be5a59"
   }
  }
 },
 "nbformat": 4,
 "nbformat_minor": 2
}
